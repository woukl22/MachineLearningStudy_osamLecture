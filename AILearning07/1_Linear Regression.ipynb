{
  "nbformat": 4,
  "nbformat_minor": 0,
  "metadata": {
    "colab": {
      "name": "AILearning07-1_Linear Regression.ipynb",
      "provenance": [],
      "collapsed_sections": [
        "8KMH1f1jnB-8",
        "UWhtkbgxbcor",
        "1AlaydTSfpG-",
        "P5Yu6xOKm0gv",
        "L2iRay17m5N1",
        "gxJIPF9r9op1",
        "Wbk2ruS59s5F",
        "CtzbKUXD2mf4"
      ],
      "authorship_tag": "ABX9TyODMOMaY39PJ6HVq9d1qPaw"
    },
    "kernelspec": {
      "name": "python3",
      "display_name": "Python 3"
    },
    "language_info": {
      "name": "python"
    }
  },
  "cells": [
    {
      "cell_type": "markdown",
      "metadata": {
        "id": "P5Yu6xOKm0gv"
      },
      "source": [
        "# AI Learning 07 - 1. Linear Regression"
      ]
    },
    {
      "cell_type": "markdown",
      "metadata": {
        "id": "L2iRay17m5N1"
      },
      "source": [
        "### Train test split"
      ]
    },
    {
      "cell_type": "code",
      "metadata": {
        "id": "flXn7mRrm7LO"
      },
      "source": [
        "# training set과 validation set을 나누기 위해서 train_test_split 함수를 호출한다.\n",
        "from sklearn.model_selection import train_test_split"
      ],
      "execution_count": null,
      "outputs": []
    },
    {
      "cell_type": "code",
      "metadata": {
        "colab": {
          "base_uri": "https://localhost:8080/"
        },
        "id": "lGeo-ZkQnofs",
        "outputId": "8cbbc0fa-fa30-4bb6-ea85-ccaf6bde190e"
      },
      "source": [
        "# feature들 중에서 SalePrice와 상관관계가 높은 feature 15개를 추출했다.\n",
        "df_features[-16:-1].index.tolist()"
      ],
      "execution_count": null,
      "outputs": [
        {
          "output_type": "execute_result",
          "data": {
            "text/plain": [
              "['OpenPorchSF',\n",
              " '2ndFlrSF',\n",
              " 'WoodDeckSF',\n",
              " 'BsmtFinSF1',\n",
              " 'Fireplaces',\n",
              " 'YearRemodAdd',\n",
              " 'YearBuilt',\n",
              " 'TotRmsAbvGrd',\n",
              " 'FullBath',\n",
              " '1stFlrSF',\n",
              " 'TotalBsmtSF',\n",
              " 'GarageArea',\n",
              " 'GarageCars',\n",
              " 'GrLivArea',\n",
              " 'OverallQual']"
            ]
          },
          "metadata": {
            "tags": []
          },
          "execution_count": 43
        }
      ]
    },
    {
      "cell_type": "code",
      "metadata": {
        "id": "9Hvav4bLnwJs"
      },
      "source": [
        "# 위의 feature들의 값들을 X에 넣어주고, SalePrice의 값을 y에 넣어준다.\n",
        "X = df_processed[df_features[-16:-1].index.tolist()]\n",
        "y = df_processed['SalePrice']"
      ],
      "execution_count": null,
      "outputs": []
    },
    {
      "cell_type": "code",
      "metadata": {
        "colab": {
          "base_uri": "https://localhost:8080/"
        },
        "id": "1WKzDVbPoRZK",
        "outputId": "1d3e5be6-e668-4a0c-9821-fba85905e20f"
      },
      "source": [
        "X.shape, y.shape"
      ],
      "execution_count": null,
      "outputs": [
        {
          "output_type": "execute_result",
          "data": {
            "text/plain": [
              "((1460, 15), (1460,))"
            ]
          },
          "metadata": {
            "tags": []
          },
          "execution_count": 45
        }
      ]
    },
    {
      "cell_type": "code",
      "metadata": {
        "id": "7h1lIXS_oeP7"
      },
      "source": [
        "# train_test_split()을 호출해서 90%로 나눈다.\n",
        "X_train, X_test, y_train, y_test = train_test_split(X, y, test_size=0.1, random_state=42)"
      ],
      "execution_count": null,
      "outputs": []
    },
    {
      "cell_type": "code",
      "metadata": {
        "colab": {
          "base_uri": "https://localhost:8080/"
        },
        "id": "r2m8YBroo8Ya",
        "outputId": "02ea7289-0629-483e-ce57-d960ed0f4606"
      },
      "source": [
        "# X_train과 X_test가 9:1의 비율로 나누어졌다.\n",
        "X_train.shape, X_test.shape"
      ],
      "execution_count": null,
      "outputs": [
        {
          "output_type": "execute_result",
          "data": {
            "text/plain": [
              "((1314, 15), (146, 15))"
            ]
          },
          "metadata": {
            "tags": []
          },
          "execution_count": 47
        }
      ]
    },
    {
      "cell_type": "code",
      "metadata": {
        "colab": {
          "base_uri": "https://localhost:8080/"
        },
        "id": "clWKb2sMo--C",
        "outputId": "63489dcb-771d-4c5e-fdea-e08b4501ec75"
      },
      "source": [
        "# y_train과 y_test가 9:1의 비율로 나누어졌다.\n",
        "y_train.shape, y_test.shape"
      ],
      "execution_count": null,
      "outputs": [
        {
          "output_type": "execute_result",
          "data": {
            "text/plain": [
              "((1314,), (146,))"
            ]
          },
          "metadata": {
            "tags": []
          },
          "execution_count": 48
        }
      ]
    },
    {
      "cell_type": "markdown",
      "metadata": {
        "id": "gxJIPF9r9op1"
      },
      "source": [
        "### Linear Regression"
      ]
    },
    {
      "cell_type": "code",
      "metadata": {
        "id": "1UaI4RejpAkB"
      },
      "source": [
        "# Lasso는 사이킷런의 linear model에 들어있다.\n",
        "from sklearn.linear_model import Lasso"
      ],
      "execution_count": null,
      "outputs": []
    },
    {
      "cell_type": "code",
      "metadata": {
        "id": "ONf3uSxLpDaZ"
      },
      "source": [
        "model = Lasso()"
      ],
      "execution_count": null,
      "outputs": []
    },
    {
      "cell_type": "code",
      "metadata": {
        "colab": {
          "base_uri": "https://localhost:8080/"
        },
        "id": "Rw5LshDOpEiK",
        "outputId": "b986785e-db6c-4fda-fe99-6efbb8e04a3a"
      },
      "source": [
        "# data 사이즈가 얼마 안되기 때문에 학습하는데 금방 끝이 난다.\n",
        "model = model.fit(X_train, y_train)"
      ],
      "execution_count": null,
      "outputs": [
        {
          "output_type": "stream",
          "text": [
            "/usr/local/lib/python3.7/dist-packages/sklearn/linear_model/_coordinate_descent.py:476: ConvergenceWarning: Objective did not converge. You might want to increase the number of iterations. Duality gap: 809534762218.5767, tolerance: 787334624.1028306\n",
            "  positive)\n"
          ],
          "name": "stderr"
        }
      ]
    },
    {
      "cell_type": "code",
      "metadata": {
        "id": "irq5wD-V09sL"
      },
      "source": [
        "# prediction을 할 땐 test set을 사용한다.\n",
        "pred = model.predict(X_test)"
      ],
      "execution_count": null,
      "outputs": []
    },
    {
      "cell_type": "code",
      "metadata": {
        "colab": {
          "base_uri": "https://localhost:8080/",
          "height": 284
        },
        "id": "-EAffNEQ1LGi",
        "outputId": "cd1044b3-8d16-4514-9f2f-5620a28d58c9"
      },
      "source": [
        "# prediction해서 나온 값과 실제 정답(y_test)의 상관관계 시각화\n",
        "# 어느 정도는 경향성을 찾았다는 것을 알 수 있다.\n",
        "plt.scatter(y_test, pred)"
      ],
      "execution_count": null,
      "outputs": [
        {
          "output_type": "execute_result",
          "data": {
            "text/plain": [
              "<matplotlib.collections.PathCollection at 0x7f9e11668f90>"
            ]
          },
          "metadata": {
            "tags": []
          },
          "execution_count": 54
        },
        {
          "output_type": "display_data",
          "data": {
            "image/png": "[encoded data removed]",
            "text/plain": [
              "<Figure size 432x288 with 1 Axes>"
            ]
          },
          "metadata": {
            "tags": [],
            "needs_background": "light"
          }
        }
      ]
    },
    {
      "cell_type": "markdown",
      "metadata": {
        "id": "Wbk2ruS59s5F"
      },
      "source": [
        "### Evaluation"
      ]
    },
    {
      "cell_type": "code",
      "metadata": {
        "id": "1IBJM-551nui"
      },
      "source": [
        "from sklearn import metrics"
      ],
      "execution_count": null,
      "outputs": []
    },
    {
      "cell_type": "code",
      "metadata": {
        "id": "2ADq3lNA1QrS"
      },
      "source": [
        "# 정확히 어떤 정도로 맞췄는지 정량화하기 위해서 간단한 평가 함수를 만든다.\n",
        "# 이미 mean_absolute_error()와 mean_squared_error()가 있으므로 출력만 해주는 함수를 만든다.\n",
        "def print_evaluate(true, predicted):\n",
        "  mae = metrics.mean_absolute_error(true, predicted)\n",
        "  mse = metrics.mean_squared_error(true, predicted)\n",
        "  rmse = np.sqrt(metrics.mean_squared_error(true, predicted))\n",
        "  r2_square = metrics.r2_score(true, predicted)\n",
        "  print('MAE: ', mae)\n",
        "  print('MSE: ', mse)\n",
        "  print('RMSE: ', rmse)\n",
        "  print('R2 Square: ', r2_square)"
      ],
      "execution_count": null,
      "outputs": []
    },
    {
      "cell_type": "code",
      "metadata": {
        "colab": {
          "base_uri": "https://localhost:8080/"
        },
        "id": "fbqyqp2Q2D6B",
        "outputId": "80bd76df-a02e-47fa-9f1a-7de522af91cf"
      },
      "source": [
        "# 예측했던 pred와 정답인 y_test를 평가한 값 출력\n",
        "print_evaluate(y_test, pred)"
      ],
      "execution_count": null,
      "outputs": [
        {
          "output_type": "stream",
          "text": [
            "MAE:  23794.14269597338\n",
            "MSE:  1754358902.586029\n",
            "RMSE:  41885.06777583186\n",
            "R2 Square:  0.80798642166732\n"
          ],
          "name": "stdout"
        }
      ]
    },
    {
      "cell_type": "code",
      "metadata": {
        "id": "f3o1mAHH2Xcy"
      },
      "source": [
        "# 숫자가 크다보니 값을 보기 위해 table로 만들었음\n",
        "df_results = pd.concat([y_test.reset_index(), pd.DataFrame(pred)], axis=1)"
      ],
      "execution_count": null,
      "outputs": []
    },
    {
      "cell_type": "code",
      "metadata": {
        "colab": {
          "base_uri": "https://localhost:8080/",
          "height": 419
        },
        "id": "llzLvqds2e5U",
        "outputId": "0e5c4d5e-4373-4ff5-930a-41e43342aa54"
      },
      "source": [
        "# 맨 오른쪽 column이 예측값이다.\n",
        "# 대체적으로 어느 정도는 가격을 맞히는 모델이 나왔다.\n",
        "df_results"
      ],
      "execution_count": null,
      "outputs": [
        {
          "output_type": "execute_result",
          "data": {
            "text/html": [
              "<div>\n",
              "<style scoped>\n",
              "    .dataframe tbody tr th:only-of-type {\n",
              "        vertical-align: middle;\n",
              "    }\n",
              "\n",
              "    .dataframe tbody tr th {\n",
              "        vertical-align: top;\n",
              "    }\n",
              "\n",
              "    .dataframe thead th {\n",
              "        text-align: right;\n",
              "    }\n",
              "</style>\n",
              "<table border=\"1\" class=\"dataframe\">\n",
              "  <thead>\n",
              "    <tr style=\"text-align: right;\">\n",
              "      <th></th>\n",
              "      <th>index</th>\n",
              "      <th>SalePrice</th>\n",
              "      <th>0</th>\n",
              "    </tr>\n",
              "  </thead>\n",
              "  <tbody>\n",
              "    <tr>\n",
              "      <th>0</th>\n",
              "      <td>892</td>\n",
              "      <td>154500</td>\n",
              "      <td>155918.012756</td>\n",
              "    </tr>\n",
              "    <tr>\n",
              "      <th>1</th>\n",
              "      <td>1105</td>\n",
              "      <td>325000</td>\n",
              "      <td>308343.211554</td>\n",
              "    </tr>\n",
              "    <tr>\n",
              "      <th>2</th>\n",
              "      <td>413</td>\n",
              "      <td>115000</td>\n",
              "      <td>109925.280172</td>\n",
              "    </tr>\n",
              "    <tr>\n",
              "      <th>3</th>\n",
              "      <td>522</td>\n",
              "      <td>159000</td>\n",
              "      <td>176015.061794</td>\n",
              "    </tr>\n",
              "    <tr>\n",
              "      <th>4</th>\n",
              "      <td>1036</td>\n",
              "      <td>315500</td>\n",
              "      <td>299781.721455</td>\n",
              "    </tr>\n",
              "    <tr>\n",
              "      <th>...</th>\n",
              "      <td>...</td>\n",
              "      <td>...</td>\n",
              "      <td>...</td>\n",
              "    </tr>\n",
              "    <tr>\n",
              "      <th>141</th>\n",
              "      <td>526</td>\n",
              "      <td>132000</td>\n",
              "      <td>119118.906907</td>\n",
              "    </tr>\n",
              "    <tr>\n",
              "      <th>142</th>\n",
              "      <td>101</td>\n",
              "      <td>178000</td>\n",
              "      <td>185965.751837</td>\n",
              "    </tr>\n",
              "    <tr>\n",
              "      <th>143</th>\n",
              "      <td>1092</td>\n",
              "      <td>136500</td>\n",
              "      <td>183903.421321</td>\n",
              "    </tr>\n",
              "    <tr>\n",
              "      <th>144</th>\n",
              "      <td>411</td>\n",
              "      <td>145000</td>\n",
              "      <td>140071.706967</td>\n",
              "    </tr>\n",
              "    <tr>\n",
              "      <th>145</th>\n",
              "      <td>1392</td>\n",
              "      <td>123000</td>\n",
              "      <td>127179.567816</td>\n",
              "    </tr>\n",
              "  </tbody>\n",
              "</table>\n",
              "<p>146 rows × 3 columns</p>\n",
              "</div>"
            ],
            "text/plain": [
              "     index  SalePrice              0\n",
              "0      892     154500  155918.012756\n",
              "1     1105     325000  308343.211554\n",
              "2      413     115000  109925.280172\n",
              "3      522     159000  176015.061794\n",
              "4     1036     315500  299781.721455\n",
              "..     ...        ...            ...\n",
              "141    526     132000  119118.906907\n",
              "142    101     178000  185965.751837\n",
              "143   1092     136500  183903.421321\n",
              "144    411     145000  140071.706967\n",
              "145   1392     123000  127179.567816\n",
              "\n",
              "[146 rows x 3 columns]"
            ]
          },
          "metadata": {
            "tags": []
          },
          "execution_count": 59
        }
      ]
    },
    {
      "cell_type": "markdown",
      "metadata": {
        "id": "CtzbKUXD2mf4"
      },
      "source": [
        "### Label transformation"
      ]
    },
    {
      "cell_type": "code",
      "metadata": {
        "id": "vV0WbywN2luq"
      },
      "source": [
        "# 간단히 튜닝을 하기 위한 작업\n",
        "import scipy.stats as st"
      ],
      "execution_count": null,
      "outputs": []
    },
    {
      "cell_type": "code",
      "metadata": {
        "colab": {
          "base_uri": "https://localhost:8080/",
          "height": 372
        },
        "id": "VKCi9XUl3Dxf",
        "outputId": "d9e300fa-d908-400c-bb27-79f60d574ad5"
      },
      "source": [
        "# output의 범위가 적은 것이 좋고, 분포가 정규분포를 따랐을 때 fitting이 잘 되는 특성이 있다.\n",
        "# 그러므로 Label이 정규분포를 따르는지 확인을 해보는 것이다.\n",
        "# 분포가 완전히 일치하지 않는 것을 확인할 수 있다.\n",
        "plt.figure(2); plt.title('Normal')\n",
        "sns.distplot(df_processed['SalePrice'], kde=False, fit=st.norm)"
      ],
      "execution_count": null,
      "outputs": [
        {
          "output_type": "stream",
          "text": [
            "/usr/local/lib/python3.7/dist-packages/seaborn/distributions.py:2557: FutureWarning: `distplot` is a deprecated function and will be removed in a future version. Please adapt your code to use either `displot` (a figure-level function with similar flexibility) or `histplot` (an axes-level function for histograms).\n",
            "  warnings.warn(msg, FutureWarning)\n"
          ],
          "name": "stderr"
        },
        {
          "output_type": "execute_result",
          "data": {
            "text/plain": [
              "<matplotlib.axes._subplots.AxesSubplot at 0x7f9e10cb2150>"
            ]
          },
          "metadata": {
            "tags": []
          },
          "execution_count": 62
        },
        {
          "output_type": "display_data",
          "data": {
            "image/png": "[encoded data removed]",
            "text/plain": [
              "<Figure size 432x288 with 1 Axes>"
            ]
          },
          "metadata": {
            "tags": [],
            "needs_background": "light"
          }
        }
      ]
    },
    {
      "cell_type": "code",
      "metadata": {
        "colab": {
          "base_uri": "https://localhost:8080/",
          "height": 372
        },
        "id": "vhi3RWs-3lmP",
        "outputId": "ccd30557-1f0d-45a3-9d01-311a6943abac"
      },
      "source": [
        "# Log normal을 취하면 분포가 굉장히 일치하게 된다.\n",
        "plt.figure(3); plt.title('Log Normal')\n",
        "sns.distplot(df_processed['SalePrice'], kde=False, fit=st.lognorm)"
      ],
      "execution_count": null,
      "outputs": [
        {
          "output_type": "stream",
          "text": [
            "/usr/local/lib/python3.7/dist-packages/seaborn/distributions.py:2557: FutureWarning: `distplot` is a deprecated function and will be removed in a future version. Please adapt your code to use either `displot` (a figure-level function with similar flexibility) or `histplot` (an axes-level function for histograms).\n",
            "  warnings.warn(msg, FutureWarning)\n"
          ],
          "name": "stderr"
        },
        {
          "output_type": "execute_result",
          "data": {
            "text/plain": [
              "<matplotlib.axes._subplots.AxesSubplot at 0x7f9e10b9f090>"
            ]
          },
          "metadata": {
            "tags": []
          },
          "execution_count": 63
        },
        {
          "output_type": "display_data",
          "data": {
            "image/png": "[encoded data removed]",
            "text/plain": [
              "<Figure size 432x288 with 1 Axes>"
            ]
          },
          "metadata": {
            "tags": [],
            "needs_background": "light"
          }
        }
      ]
    },
    {
      "cell_type": "code",
      "metadata": {
        "colab": {
          "base_uri": "https://localhost:8080/",
          "height": 372
        },
        "id": "5cjrHpxN3uKO",
        "outputId": "e52eafea-6a87-459b-c847-8a0655b04910"
      },
      "source": [
        "# 위에서 힌트를 얻어서 y값에 Log를 취한 값을 정규분포를 따르는지 보면,\n",
        "# 아래와 같이 정규분포 곡선과 로그를 취한 값이 굉장히 일치하는 것을 알 수 있다.\n",
        "plt.figure(3); plt.title('Normal')\n",
        "sns.distplot(np.log(df_processed['SalePrice']), kde=False, fit=st.norm)"
      ],
      "execution_count": null,
      "outputs": [
        {
          "output_type": "stream",
          "text": [
            "/usr/local/lib/python3.7/dist-packages/seaborn/distributions.py:2557: FutureWarning: `distplot` is a deprecated function and will be removed in a future version. Please adapt your code to use either `displot` (a figure-level function with similar flexibility) or `histplot` (an axes-level function for histograms).\n",
            "  warnings.warn(msg, FutureWarning)\n"
          ],
          "name": "stderr"
        },
        {
          "output_type": "execute_result",
          "data": {
            "text/plain": [
              "<matplotlib.axes._subplots.AxesSubplot at 0x7f9e1073d8d0>"
            ]
          },
          "metadata": {
            "tags": []
          },
          "execution_count": 66
        },
        {
          "output_type": "display_data",
          "data": {
            "image/png": "[encoded data removed]",
            "text/plain": [
              "<Figure size 432x288 with 1 Axes>"
            ]
          },
          "metadata": {
            "tags": [],
            "needs_background": "light"
          }
        }
      ]
    },
    {
      "cell_type": "code",
      "metadata": {
        "id": "72IHnS2F4Kmj"
      },
      "source": [
        "# X 값은 그대로 들어가는데 y값은 log를 취해서 넣겠다.\n",
        "model = Lasso()\n",
        "model = model.fit(X_train, np.log(y_train))"
      ],
      "execution_count": null,
      "outputs": []
    },
    {
      "cell_type": "code",
      "metadata": {
        "id": "9FqtGyg-4by9"
      },
      "source": [
        "# 그냥 prediction을 하면 log를 취한 것이 나오니까, 원상복귀 시켜주기 위한 코드\n",
        "# => exponential을 취해주면 된다.\n",
        "pred = np.exp(model.predict(X_test))"
      ],
      "execution_count": null,
      "outputs": []
    },
    {
      "cell_type": "code",
      "metadata": {
        "colab": {
          "base_uri": "https://localhost:8080/"
        },
        "id": "mGL9RTqe4pED",
        "outputId": "e3a8ad3e-3bb7-4de5-ac6f-1308fe0a8b19"
      },
      "source": [
        "# MAE가 23794에서 21617로 많이 감소했다.\n",
        "# data feature 엔지니어링을 한다는 것은 스케일을 맞추고, 분포를 바꾸고하는 등의 과정들을 의미한다.\n",
        "# 이런 과정만 거쳐도 accuracy가 확확 바뀔 수 있기 때문에, 내가 넣는 데이터가 어떤 범위에 있는지, 어떤 분포를 따르는지 항상 체크하는 것이 중요하다.\n",
        "print_evaluate(y_test, pred)"
      ],
      "execution_count": null,
      "outputs": [
        {
          "output_type": "stream",
          "text": [
            "MAE:  21617.328358371098\n",
            "MSE:  1345501205.1928196\n",
            "RMSE:  36681.07420990857\n",
            "R2 Square:  0.8527356627659387\n"
          ],
          "name": "stdout"
        }
      ]
    }
  ]
}