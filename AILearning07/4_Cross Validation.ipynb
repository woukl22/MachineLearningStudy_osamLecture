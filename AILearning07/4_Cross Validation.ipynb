{
  "nbformat": 4,
  "nbformat_minor": 0,
  "metadata": {
    "colab": {
      "name": "AILearning07-4_Cross Validation.ipynb",
      "provenance": [],
      "collapsed_sections": [
        "8KMH1f1jnB-8",
        "UWhtkbgxbcor",
        "1AlaydTSfpG-",
        "P5Yu6xOKm0gv",
        "L2iRay17m5N1",
        "gxJIPF9r9op1",
        "Wbk2ruS59s5F",
        "CtzbKUXD2mf4",
        "zutQCxoy-_xq",
        "Hi2r-RQb_IX6",
        "iQgbDK3L_Lmi",
        "pb3vn46xWr--",
        "SGDfS3FBYTyA",
        "QvSuRnEBbaOf",
        "Ybj_XZseeY-3"
      ],
      "authorship_tag": "ABX9TyN1OI4hcb+MxwZrUFX4d1Hf"
    },
    "kernelspec": {
      "name": "python3",
      "display_name": "Python 3"
    },
    "language_info": {
      "name": "python"
    }
  },
  "cells": [
    {
      "cell_type": "markdown",
      "metadata": {
        "id": "0ATMB6FIuJIG"
      },
      "source": [
        "# AI Learning 07 - 4. Cross Validation"
      ]
    },
    {
      "cell_type": "markdown",
      "metadata": {
        "id": "iPXYo-yRuSP0"
      },
      "source": [
        "### K-fold Cross Validation"
      ]
    },
    {
      "cell_type": "code",
      "metadata": {
        "colab": {
          "base_uri": "https://localhost:8080/"
        },
        "id": "PLX0FuzIuXLe",
        "outputId": "274034a0-1cb2-4a2c-ad31-a5150afdffca"
      },
      "source": [
        "X.shape, y.shape"
      ],
      "execution_count": 139,
      "outputs": [
        {
          "output_type": "execute_result",
          "data": {
            "text/plain": [
              "((1460, 30), (1460,))"
            ]
          },
          "metadata": {
            "tags": []
          },
          "execution_count": 139
        }
      ]
    },
    {
      "cell_type": "code",
      "metadata": {
        "id": "NY6PQLYZvC36"
      },
      "source": [
        "# 지난번에 training set과 test set을 나눈 코드\n",
        "# X_train, X_test, y_train, y_test = train_test_split(X, y, test_size=0.1, random_state=42)"
      ],
      "execution_count": null,
      "outputs": []
    },
    {
      "cell_type": "code",
      "metadata": {
        "id": "tJg26wuhvJaA"
      },
      "source": [
        "# 위에서 test set을 10%로 나눠놨다.\n",
        "# 이제 10%로 나눈 test set을 10번에 걸쳐서 서로 다른 test set으로 만들기로 함.\n",
        "K = 10\n",
        "data_size = int(len(X) / K)"
      ],
      "execution_count": 142,
      "outputs": []
    },
    {
      "cell_type": "code",
      "metadata": {
        "colab": {
          "base_uri": "https://localhost:8080/"
        },
        "id": "zIYpZgw6vM9H",
        "outputId": "23b464a4-a8f1-40e9-85aa-3016cb87d9da"
      },
      "source": [
        "data_size"
      ],
      "execution_count": 143,
      "outputs": [
        {
          "output_type": "execute_result",
          "data": {
            "text/plain": [
              "146"
            ]
          },
          "metadata": {
            "tags": []
          },
          "execution_count": 143
        }
      ]
    },
    {
      "cell_type": "code",
      "metadata": {
        "id": "RvWRdWEWvOPu"
      },
      "source": [
        "# 자주 쓰이는 개념이라 사이킷런에 KFold로 만들어져 있음.\n",
        "from sklearn.model_selection import KFold"
      ],
      "execution_count": 144,
      "outputs": []
    },
    {
      "cell_type": "code",
      "metadata": {
        "id": "UZcfyAsGvRYc"
      },
      "source": [
        "# 앞으로 kf를 사용해서 split을 하면서 학습을 시킬 것이다.\n",
        "kf = KFold(n_splits=K)"
      ],
      "execution_count": 145,
      "outputs": []
    },
    {
      "cell_type": "code",
      "metadata": {
        "id": "8fnRYh13vTKE"
      },
      "source": [
        "# data preprocessing\n",
        "# split한 뒤에 전처리하는 것은 번거로우니 먼저 X, y를 통째로 전처리 해준다.\n",
        "# 지난번처럼 간단히 column을 0에서 1 사이의 값으로 normalization을 해준다.\n",
        "\n",
        "x_min_max_scaler = MinMaxScaler()\n",
        "x_min_max_scaler.fit(X)\n",
        "scaled_X = x_min_max_scaler.transform(X)\n",
        "\n",
        "y_min_max_scaler = MinMaxScaler()\n",
        "y_min_max_scaler.fit(np.array(y).reshape(-1, 1))\n",
        "scaled_y = y_min_max_scaler.transform(np.array(y).reshape(-1, 1))"
      ],
      "execution_count": 146,
      "outputs": []
    },
    {
      "cell_type": "code",
      "metadata": {
        "colab": {
          "base_uri": "https://localhost:8080/"
        },
        "id": "h34HxsF4xHHb",
        "outputId": "441cfb94-a59c-4cf3-aade-ed69d5f6b344"
      },
      "source": [
        "scaled_X.shape, scaled_y.shape"
      ],
      "execution_count": 147,
      "outputs": [
        {
          "output_type": "execute_result",
          "data": {
            "text/plain": [
              "((1460, 30), (1460, 1))"
            ]
          },
          "metadata": {
            "tags": []
          },
          "execution_count": 147
        }
      ]
    },
    {
      "cell_type": "code",
      "metadata": {
        "colab": {
          "base_uri": "https://localhost:8080/"
        },
        "id": "CJXiG42JxWBM",
        "outputId": "978c2605-3662-4cb1-f337-ad171c451417"
      },
      "source": [
        "# kf.split()에 scaled_X를 넣어주면 자동으로 index를 뽑아준다.\n",
        "# 최종적인 지표는 rmse의 값들을 평균내줘야한다.\n",
        "rmses = []\n",
        "\n",
        "for train_index, test_index in kf.split(scaled_X):\n",
        "  # print(\"TRAIN:\", train_index, \"TEST:\", test_index)\n",
        "\n",
        "  X_train, X_test = scaled_X[train_index], scaled_X[test_index]\n",
        "  y_train, y_test = scaled_y[train_index], scaled_y[test_index]\n",
        "\n",
        "  # print(X_train.shape, X_test.shape)\n",
        "  # print(y_train.shape, y_test.shape)\n",
        "\n",
        "  # training\n",
        "  model = Lasso()\n",
        "  model = model.fit(X_train, y_train)\n",
        "\n",
        "  # evaluation\n",
        "  pred = model.predict(X_test).reshape((-1, 1))\n",
        "  pred = y_min_max_scaler.inverse_transform(pred)\n",
        "  rmse = np.sqrt(metrics.mean_squared_error(y_test, pred))\n",
        "\n",
        "  print(rmse)\n",
        "  print(\"---------------------\")\n",
        "\n",
        "  rmses.append(rmse)"
      ],
      "execution_count": 163,
      "outputs": [
        {
          "output_type": "stream",
          "text": [
            "181632.6112898907\n",
            "---------------------\n",
            "180027.94663797648\n",
            "---------------------\n",
            "180696.21069777504\n",
            "---------------------\n",
            "180689.21822073552\n",
            "---------------------\n",
            "180332.03110818347\n",
            "---------------------\n",
            "180697.65972653756\n",
            "---------------------\n",
            "181755.2208892524\n",
            "---------------------\n",
            "181831.19976882864\n",
            "---------------------\n",
            "180042.74895388487\n",
            "---------------------\n",
            "181505.08382085158\n",
            "---------------------\n"
          ],
          "name": "stdout"
        }
      ]
    },
    {
      "cell_type": "code",
      "metadata": {
        "colab": {
          "base_uri": "https://localhost:8080/"
        },
        "id": "BnEjeolM0yfx",
        "outputId": "42e1dffa-eed4-425a-cc48-c093772e3605"
      },
      "source": [
        "rmses"
      ],
      "execution_count": 164,
      "outputs": [
        {
          "output_type": "execute_result",
          "data": {
            "text/plain": [
              "[181632.6112898907,\n",
              " 180027.94663797648,\n",
              " 180696.21069777504,\n",
              " 180689.21822073552,\n",
              " 180332.03110818347,\n",
              " 180697.65972653756,\n",
              " 181755.2208892524,\n",
              " 181831.19976882864,\n",
              " 180042.74895388487,\n",
              " 181505.08382085158]"
            ]
          },
          "metadata": {
            "tags": []
          },
          "execution_count": 164
        }
      ]
    },
    {
      "cell_type": "code",
      "metadata": {
        "colab": {
          "base_uri": "https://localhost:8080/"
        },
        "id": "82rETK8h1Q_d",
        "outputId": "f8ef6d0b-9205-47fd-9dc1-8ea591979b86"
      },
      "source": [
        "# rmses에 넣어둔 값들을 평균냄.\n",
        "np.mean(rmses)"
      ],
      "execution_count": 165,
      "outputs": [
        {
          "output_type": "execute_result",
          "data": {
            "text/plain": [
              "180920.99311139164"
            ]
          },
          "metadata": {
            "tags": []
          },
          "execution_count": 165
        }
      ]
    },
    {
      "cell_type": "markdown",
      "metadata": {
        "id": "PxM_azK91WwK"
      },
      "source": [
        "이런 방법이 data set이 적을 때 일반적으로 사용하는 평가 방법이다.<br>\n",
        "k개로 잘라서 각각 평가를 한 뒤에 평가 지표들을 평균을 낸다."
      ]
    }
  ]
}