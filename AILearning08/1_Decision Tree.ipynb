{
  "nbformat": 4,
  "nbformat_minor": 0,
  "metadata": {
    "colab": {
      "name": "AILearning08-1_Decision Tree.ipynb",
      "provenance": [],
      "collapsed_sections": [
        "8KMH1f1jnB-8",
        "UWhtkbgxbcor",
        "1AlaydTSfpG-",
        "P5Yu6xOKm0gv",
        "L2iRay17m5N1",
        "gxJIPF9r9op1",
        "Wbk2ruS59s5F",
        "CtzbKUXD2mf4",
        "zutQCxoy-_xq",
        "Hi2r-RQb_IX6",
        "iQgbDK3L_Lmi",
        "pb3vn46xWr--",
        "SGDfS3FBYTyA",
        "QvSuRnEBbaOf",
        "Ybj_XZseeY-3",
        "0ATMB6FIuJIG",
        "iPXYo-yRuSP0"
      ],
      "authorship_tag": "ABX9TyPs3e8NgKd0nXEoUriTwj8h"
    },
    "kernelspec": {
      "name": "python3",
      "display_name": "Python 3"
    },
    "language_info": {
      "name": "python"
    }
  },
  "cells": [
    {
      "cell_type": "markdown",
      "metadata": {
        "id": "qIItJXgn70mE"
      },
      "source": [
        "# AI Learning08 - 1. Decision Tree"
      ]
    },
    {
      "cell_type": "markdown",
      "metadata": {
        "id": "y-EWvSHX8HQy"
      },
      "source": [
        "### Decision Tree"
      ]
    },
    {
      "cell_type": "code",
      "metadata": {
        "id": "hRYurgx78JLy"
      },
      "source": [
        "from sklearn.tree import DecisionTreeRegressor"
      ],
      "execution_count": 110,
      "outputs": []
    },
    {
      "cell_type": "code",
      "metadata": {
        "colab": {
          "base_uri": "https://localhost:8080/"
        },
        "id": "0pjb5Lqq8PMm",
        "outputId": "9f139fbf-e8ac-48cd-89c3-8605d702a7cd"
      },
      "source": [
        "# k-fold cross validation 방법으로 decision tree regressor 모델을 학습하고, 테스트함.\n",
        "# Lasso에 비해 성능이 좋지 않다.\n",
        "rmses = []\n",
        "for train_index, test_index in kf.split(scaled_X):\n",
        "  # print(\"TEST: \", test_index, \"TRAIN:\", train_index)\n",
        "\n",
        "  X_train, X_test = scaled_X[train_index], scaled_X[test_index]\n",
        "  y_train, y_test = scaled_y[train_index], scaled_y[test_index]\n",
        "\n",
        "  # print(X_train.shape, X_test.shape)\n",
        "  # print(y_train.shape, y_test.shape)\n",
        "\n",
        "  # training\n",
        "  model = DecisionTreeRegressor(random_state=0)\n",
        "  model = model.fit(X_train, y_train)\n",
        "\n",
        "  # evaluation\n",
        "  pred = model.predict(X_test).reshape((-1, 1))\n",
        "  pred = y_min_max_scaler.inverse_transform(pred)\n",
        "  rmse = np.sqrt(metrics.mean_squared_error(y_test, pred))\n",
        "\n",
        "  print(rmse)\n",
        "  print(\"-----------------\")\n",
        "\n",
        "  rmses.append(rmse)\n",
        "\n",
        "print(\"average rmse: \", np.mean(rmses))"
      ],
      "execution_count": 111,
      "outputs": [
        {
          "output_type": "stream",
          "text": [
            "190177.29817888833\n",
            "-----------------\n",
            "205515.5452471033\n",
            "-----------------\n",
            "207955.62981300236\n",
            "-----------------\n",
            "207413.18491786413\n",
            "-----------------\n",
            "204689.07681169442\n",
            "-----------------\n",
            "192304.93973824006\n",
            "-----------------\n",
            "187264.77629001715\n",
            "-----------------\n",
            "191208.5828406388\n",
            "-----------------\n",
            "205913.2927871358\n",
            "-----------------\n",
            "192134.49313890567\n",
            "-----------------\n",
            "average rmse:  198457.681976349\n"
          ],
          "name": "stdout"
        }
      ]
    },
    {
      "cell_type": "markdown",
      "metadata": {
        "id": "32wcPw4R-WSf"
      },
      "source": [
        "# Random Forest"
      ]
    },
    {
      "cell_type": "code",
      "metadata": {
        "id": "FMSBhT0N-c8w"
      },
      "source": [
        "from sklearn.ensemble import RandomForestRegressor"
      ],
      "execution_count": 112,
      "outputs": []
    },
    {
      "cell_type": "code",
      "metadata": {
        "colab": {
          "base_uri": "https://localhost:8080/"
        },
        "id": "2KZiT2OM-WS9",
        "outputId": "045a3358-0a1f-4903-990a-5f0643bab103"
      },
      "source": [
        "# decision tree에서 개선된 random forest 모델 또한 그렇게 성능이 좋지는 않다.\n",
        "# tree를 베이스로 하는 모델들은 regression에 약하다. \n",
        "# classification에서 훨씬 더 잘 작동한다.\n",
        "\n",
        "rmses = []\n",
        "for train_index, test_index in kf.split(scaled_X):\n",
        "  # print(\"TEST: \", test_index, \"TRAIN:\", train_index)\n",
        "\n",
        "  X_train, X_test = scaled_X[train_index], scaled_X[test_index]\n",
        "  y_train, y_test = scaled_y[train_index], scaled_y[test_index]\n",
        "\n",
        "  # print(X_train.shape, X_test.shape)\n",
        "  # print(y_train.shape, y_test.shape)\n",
        "\n",
        "  # training\n",
        "  model = RandomForestRegressor(random_state=0)\n",
        "  model = model.fit(X_train, y_train)\n",
        "\n",
        "  # evaluation\n",
        "  pred = model.predict(X_test).reshape((-1, 1))\n",
        "  pred = y_min_max_scaler.inverse_transform(pred)\n",
        "  rmse = np.sqrt(metrics.mean_squared_error(y_test, pred))\n",
        "\n",
        "  print(rmse)\n",
        "  print(\"-----------------\")\n",
        "\n",
        "  rmses.append(rmse)\n",
        "\n",
        "print(\"average rmse: \", np.mean(rmses))"
      ],
      "execution_count": 113,
      "outputs": [
        {
          "output_type": "stream",
          "text": [
            "/usr/local/lib/python3.7/dist-packages/ipykernel_launcher.py:14: DataConversionWarning: A column-vector y was passed when a 1d array was expected. Please change the shape of y to (n_samples,), for example using ravel().\n",
            "  \n"
          ],
          "name": "stderr"
        },
        {
          "output_type": "stream",
          "text": [
            "188314.77533647022\n",
            "-----------------\n"
          ],
          "name": "stdout"
        },
        {
          "output_type": "stream",
          "text": [
            "/usr/local/lib/python3.7/dist-packages/ipykernel_launcher.py:14: DataConversionWarning: A column-vector y was passed when a 1d array was expected. Please change the shape of y to (n_samples,), for example using ravel().\n",
            "  \n"
          ],
          "name": "stderr"
        },
        {
          "output_type": "stream",
          "text": [
            "198973.51294726276\n",
            "-----------------\n"
          ],
          "name": "stdout"
        },
        {
          "output_type": "stream",
          "text": [
            "/usr/local/lib/python3.7/dist-packages/ipykernel_launcher.py:14: DataConversionWarning: A column-vector y was passed when a 1d array was expected. Please change the shape of y to (n_samples,), for example using ravel().\n",
            "  \n"
          ],
          "name": "stderr"
        },
        {
          "output_type": "stream",
          "text": [
            "196510.08042902566\n",
            "-----------------\n"
          ],
          "name": "stdout"
        },
        {
          "output_type": "stream",
          "text": [
            "/usr/local/lib/python3.7/dist-packages/ipykernel_launcher.py:14: DataConversionWarning: A column-vector y was passed when a 1d array was expected. Please change the shape of y to (n_samples,), for example using ravel().\n",
            "  \n"
          ],
          "name": "stderr"
        },
        {
          "output_type": "stream",
          "text": [
            "204145.25633432358\n",
            "-----------------\n"
          ],
          "name": "stdout"
        },
        {
          "output_type": "stream",
          "text": [
            "/usr/local/lib/python3.7/dist-packages/ipykernel_launcher.py:14: DataConversionWarning: A column-vector y was passed when a 1d array was expected. Please change the shape of y to (n_samples,), for example using ravel().\n",
            "  \n"
          ],
          "name": "stderr"
        },
        {
          "output_type": "stream",
          "text": [
            "200381.30210437573\n",
            "-----------------\n"
          ],
          "name": "stdout"
        },
        {
          "output_type": "stream",
          "text": [
            "/usr/local/lib/python3.7/dist-packages/ipykernel_launcher.py:14: DataConversionWarning: A column-vector y was passed when a 1d array was expected. Please change the shape of y to (n_samples,), for example using ravel().\n",
            "  \n"
          ],
          "name": "stderr"
        },
        {
          "output_type": "stream",
          "text": [
            "189385.80702771444\n",
            "-----------------\n"
          ],
          "name": "stdout"
        },
        {
          "output_type": "stream",
          "text": [
            "/usr/local/lib/python3.7/dist-packages/ipykernel_launcher.py:14: DataConversionWarning: A column-vector y was passed when a 1d array was expected. Please change the shape of y to (n_samples,), for example using ravel().\n",
            "  \n"
          ],
          "name": "stderr"
        },
        {
          "output_type": "stream",
          "text": [
            "187104.60516542284\n",
            "-----------------\n"
          ],
          "name": "stdout"
        },
        {
          "output_type": "stream",
          "text": [
            "/usr/local/lib/python3.7/dist-packages/ipykernel_launcher.py:14: DataConversionWarning: A column-vector y was passed when a 1d array was expected. Please change the shape of y to (n_samples,), for example using ravel().\n",
            "  \n"
          ],
          "name": "stderr"
        },
        {
          "output_type": "stream",
          "text": [
            "184287.63561418594\n",
            "-----------------\n"
          ],
          "name": "stdout"
        },
        {
          "output_type": "stream",
          "text": [
            "/usr/local/lib/python3.7/dist-packages/ipykernel_launcher.py:14: DataConversionWarning: A column-vector y was passed when a 1d array was expected. Please change the shape of y to (n_samples,), for example using ravel().\n",
            "  \n"
          ],
          "name": "stderr"
        },
        {
          "output_type": "stream",
          "text": [
            "202284.53136756827\n",
            "-----------------\n"
          ],
          "name": "stdout"
        },
        {
          "output_type": "stream",
          "text": [
            "/usr/local/lib/python3.7/dist-packages/ipykernel_launcher.py:14: DataConversionWarning: A column-vector y was passed when a 1d array was expected. Please change the shape of y to (n_samples,), for example using ravel().\n",
            "  \n"
          ],
          "name": "stderr"
        },
        {
          "output_type": "stream",
          "text": [
            "190696.04102361176\n",
            "-----------------\n",
            "average rmse:  194208.35473499613\n"
          ],
          "name": "stdout"
        }
      ]
    }
  ]
}