{
  "nbformat": 4,
  "nbformat_minor": 0,
  "metadata": {
    "colab": {
      "name": "AILearning08-2_Boosting.ipynb",
      "provenance": [],
      "collapsed_sections": [
        "8KMH1f1jnB-8",
        "UWhtkbgxbcor",
        "1AlaydTSfpG-",
        "P5Yu6xOKm0gv",
        "L2iRay17m5N1",
        "gxJIPF9r9op1",
        "Wbk2ruS59s5F",
        "CtzbKUXD2mf4",
        "zutQCxoy-_xq",
        "Hi2r-RQb_IX6",
        "iQgbDK3L_Lmi",
        "SGDfS3FBYTyA",
        "QvSuRnEBbaOf",
        "Ybj_XZseeY-3",
        "0ATMB6FIuJIG",
        "iPXYo-yRuSP0",
        "qIItJXgn70mE",
        "y-EWvSHX8HQy",
        "32wcPw4R-WSf"
      ],
      "authorship_tag": "ABX9TyMtBBncisyauGMzJ9Oo8csT"
    },
    "kernelspec": {
      "name": "python3",
      "display_name": "Python 3"
    },
    "language_info": {
      "name": "python"
    }
  },
  "cells": [
    {
      "cell_type": "markdown",
      "metadata": {
        "id": "Bf4wb_rvEQmj"
      },
      "source": [
        "# AI Learning 08 - 2. Boosting"
      ]
    },
    {
      "cell_type": "markdown",
      "metadata": {
        "id": "J5_i36b-FGi1"
      },
      "source": [
        "### AdaBoost"
      ]
    },
    {
      "cell_type": "code",
      "metadata": {
        "id": "3F0UXSlbFGjO"
      },
      "source": [
        "# AdaBoost도 사이킷런에서 제공하고 있는 기본 회귀분석 모형이다.\n",
        "from sklearn.ensemble import AdaBoostRegressor"
      ],
      "execution_count": 114,
      "outputs": []
    },
    {
      "cell_type": "code",
      "metadata": {
        "colab": {
          "base_uri": "https://localhost:8080/"
        },
        "id": "oXLPRnHFFGjP",
        "outputId": "adebf372-2c90-41f9-cb3d-5e041e8aec51"
      },
      "source": [
        "# k-fold cross validation frame에 모델 부분만 바꿔주면 된다.\n",
        "rmses = []\n",
        "for train_index, test_index in kf.split(scaled_X):\n",
        "  # print(\"TEST: \", test_index, \"TRAIN:\", train_index)\n",
        "\n",
        "  X_train, X_test = scaled_X[train_index], scaled_X[test_index]\n",
        "  y_train, y_test = scaled_y[train_index], scaled_y[test_index]\n",
        "\n",
        "  # print(X_train.shape, X_test.shape)\n",
        "  # print(y_train.shape, y_test.shape)\n",
        "\n",
        "  # training\n",
        "  model = AdaBoostRegressor(random_state=0)\n",
        "  model = model.fit(X_train, y_train)\n",
        "\n",
        "  # evaluation\n",
        "  pred = model.predict(X_test).reshape((-1, 1))\n",
        "  pred = y_min_max_scaler.inverse_transform(pred)\n",
        "  rmse = np.sqrt(metrics.mean_squared_error(y_test, pred))\n",
        "\n",
        "  print(rmse)\n",
        "  print(\"-----------------\")\n",
        "\n",
        "  rmses.append(rmse)\n",
        "\n",
        "print(\"average rmse: \", np.mean(rmses))"
      ],
      "execution_count": 115,
      "outputs": [
        {
          "output_type": "stream",
          "text": [
            "/usr/local/lib/python3.7/dist-packages/sklearn/utils/validation.py:760: DataConversionWarning: A column-vector y was passed when a 1d array was expected. Please change the shape of y to (n_samples, ), for example using ravel().\n",
            "  y = column_or_1d(y, warn=True)\n"
          ],
          "name": "stderr"
        },
        {
          "output_type": "stream",
          "text": [
            "196274.57881322003\n",
            "-----------------\n"
          ],
          "name": "stdout"
        },
        {
          "output_type": "stream",
          "text": [
            "/usr/local/lib/python3.7/dist-packages/sklearn/utils/validation.py:760: DataConversionWarning: A column-vector y was passed when a 1d array was expected. Please change the shape of y to (n_samples, ), for example using ravel().\n",
            "  y = column_or_1d(y, warn=True)\n"
          ],
          "name": "stderr"
        },
        {
          "output_type": "stream",
          "text": [
            "200175.7712245431\n",
            "-----------------\n"
          ],
          "name": "stdout"
        },
        {
          "output_type": "stream",
          "text": [
            "/usr/local/lib/python3.7/dist-packages/sklearn/utils/validation.py:760: DataConversionWarning: A column-vector y was passed when a 1d array was expected. Please change the shape of y to (n_samples, ), for example using ravel().\n",
            "  y = column_or_1d(y, warn=True)\n"
          ],
          "name": "stderr"
        },
        {
          "output_type": "stream",
          "text": [
            "203109.01740714387\n",
            "-----------------\n"
          ],
          "name": "stdout"
        },
        {
          "output_type": "stream",
          "text": [
            "/usr/local/lib/python3.7/dist-packages/sklearn/utils/validation.py:760: DataConversionWarning: A column-vector y was passed when a 1d array was expected. Please change the shape of y to (n_samples, ), for example using ravel().\n",
            "  y = column_or_1d(y, warn=True)\n"
          ],
          "name": "stderr"
        },
        {
          "output_type": "stream",
          "text": [
            "207549.91681903644\n",
            "-----------------\n"
          ],
          "name": "stdout"
        },
        {
          "output_type": "stream",
          "text": [
            "/usr/local/lib/python3.7/dist-packages/sklearn/utils/validation.py:760: DataConversionWarning: A column-vector y was passed when a 1d array was expected. Please change the shape of y to (n_samples, ), for example using ravel().\n",
            "  y = column_or_1d(y, warn=True)\n"
          ],
          "name": "stderr"
        },
        {
          "output_type": "stream",
          "text": [
            "209043.50607817541\n",
            "-----------------\n"
          ],
          "name": "stdout"
        },
        {
          "output_type": "stream",
          "text": [
            "/usr/local/lib/python3.7/dist-packages/sklearn/utils/validation.py:760: DataConversionWarning: A column-vector y was passed when a 1d array was expected. Please change the shape of y to (n_samples, ), for example using ravel().\n",
            "  y = column_or_1d(y, warn=True)\n"
          ],
          "name": "stderr"
        },
        {
          "output_type": "stream",
          "text": [
            "194390.3255260536\n",
            "-----------------\n"
          ],
          "name": "stdout"
        },
        {
          "output_type": "stream",
          "text": [
            "/usr/local/lib/python3.7/dist-packages/sklearn/utils/validation.py:760: DataConversionWarning: A column-vector y was passed when a 1d array was expected. Please change the shape of y to (n_samples, ), for example using ravel().\n",
            "  y = column_or_1d(y, warn=True)\n"
          ],
          "name": "stderr"
        },
        {
          "output_type": "stream",
          "text": [
            "190739.04979546237\n",
            "-----------------\n"
          ],
          "name": "stdout"
        },
        {
          "output_type": "stream",
          "text": [
            "/usr/local/lib/python3.7/dist-packages/sklearn/utils/validation.py:760: DataConversionWarning: A column-vector y was passed when a 1d array was expected. Please change the shape of y to (n_samples, ), for example using ravel().\n",
            "  y = column_or_1d(y, warn=True)\n"
          ],
          "name": "stderr"
        },
        {
          "output_type": "stream",
          "text": [
            "187683.76815438917\n",
            "-----------------\n"
          ],
          "name": "stdout"
        },
        {
          "output_type": "stream",
          "text": [
            "/usr/local/lib/python3.7/dist-packages/sklearn/utils/validation.py:760: DataConversionWarning: A column-vector y was passed when a 1d array was expected. Please change the shape of y to (n_samples, ), for example using ravel().\n",
            "  y = column_or_1d(y, warn=True)\n"
          ],
          "name": "stderr"
        },
        {
          "output_type": "stream",
          "text": [
            "213067.950171168\n",
            "-----------------\n"
          ],
          "name": "stdout"
        },
        {
          "output_type": "stream",
          "text": [
            "/usr/local/lib/python3.7/dist-packages/sklearn/utils/validation.py:760: DataConversionWarning: A column-vector y was passed when a 1d array was expected. Please change the shape of y to (n_samples, ), for example using ravel().\n",
            "  y = column_or_1d(y, warn=True)\n"
          ],
          "name": "stderr"
        },
        {
          "output_type": "stream",
          "text": [
            "200498.31321385878\n",
            "-----------------\n",
            "average rmse:  200253.2197203051\n"
          ],
          "name": "stdout"
        }
      ]
    },
    {
      "cell_type": "markdown",
      "metadata": {
        "id": "eb_4TCLvFQTF"
      },
      "source": [
        "### XGBoost"
      ]
    },
    {
      "cell_type": "code",
      "metadata": {
        "id": "la-Vbs5GFQTH"
      },
      "source": [
        "# colab의 경우 많이 쓰는 패키지는 default로 설치되어 있어서 설치할 필요가 없지만,\n",
        "# 다른 개발환경에서 사용할 땐 패키지를 설치해줘야 한다.\n",
        "# pip install xgboost\n",
        "\n",
        "from xgboost import XGBRegressor"
      ],
      "execution_count": 116,
      "outputs": []
    },
    {
      "cell_type": "code",
      "metadata": {
        "colab": {
          "base_uri": "https://localhost:8080/"
        },
        "id": "d4FLtZEZFQTI",
        "outputId": "31b5a9e0-130d-429f-c4ff-f81515f42307"
      },
      "source": [
        "rmses = []\n",
        "for train_index, test_index in kf.split(scaled_X):\n",
        "  # print(\"TEST: \", test_index, \"TRAIN:\", train_index)\n",
        "\n",
        "  X_train, X_test = scaled_X[train_index], scaled_X[test_index]\n",
        "  y_train, y_test = scaled_y[train_index], scaled_y[test_index]\n",
        "\n",
        "  # print(X_train.shape, X_test.shape)\n",
        "  # print(y_train.shape, y_test.shape)\n",
        "\n",
        "  # training\n",
        "  model = XGBRegressor(n_estimators=100)\n",
        "  model = model.fit(X_train, y_train)\n",
        "\n",
        "  # evaluation\n",
        "  pred = model.predict(X_test).reshape((-1, 1))\n",
        "  pred = y_min_max_scaler.inverse_transform(pred)\n",
        "  rmse = np.sqrt(metrics.mean_squared_error(y_test, pred))\n",
        "\n",
        "  print(rmse)\n",
        "  print(\"-----------------\")\n",
        "\n",
        "  rmses.append(rmse)\n",
        "\n",
        "print(\"average rmse: \", np.mean(rmses))"
      ],
      "execution_count": 117,
      "outputs": [
        {
          "output_type": "stream",
          "text": [
            "[05:45:11] WARNING: /workspace/src/objective/regression_obj.cu:152: reg:linear is now deprecated in favor of reg:squarederror.\n",
            "188881.40294138063\n",
            "-----------------\n",
            "[05:45:11] WARNING: /workspace/src/objective/regression_obj.cu:152: reg:linear is now deprecated in favor of reg:squarederror.\n",
            "199879.9121726611\n",
            "-----------------\n",
            "[05:45:12] WARNING: /workspace/src/objective/regression_obj.cu:152: reg:linear is now deprecated in favor of reg:squarederror.\n",
            "197412.713914698\n",
            "-----------------\n",
            "[05:45:12] WARNING: /workspace/src/objective/regression_obj.cu:152: reg:linear is now deprecated in favor of reg:squarederror.\n",
            "205702.62385019913\n",
            "-----------------\n",
            "[05:45:12] WARNING: /workspace/src/objective/regression_obj.cu:152: reg:linear is now deprecated in favor of reg:squarederror.\n",
            "200828.05615437523\n",
            "-----------------\n",
            "[05:45:12] WARNING: /workspace/src/objective/regression_obj.cu:152: reg:linear is now deprecated in favor of reg:squarederror.\n",
            "189503.72844541303\n",
            "-----------------\n",
            "[05:45:12] WARNING: /workspace/src/objective/regression_obj.cu:152: reg:linear is now deprecated in favor of reg:squarederror.\n",
            "185737.58116903782\n",
            "-----------------\n",
            "[05:45:12] WARNING: /workspace/src/objective/regression_obj.cu:152: reg:linear is now deprecated in favor of reg:squarederror.\n",
            "185231.44748908945\n",
            "-----------------\n",
            "[05:45:13] WARNING: /workspace/src/objective/regression_obj.cu:152: reg:linear is now deprecated in favor of reg:squarederror.\n",
            "204972.84561832104\n",
            "-----------------\n",
            "[05:45:13] WARNING: /workspace/src/objective/regression_obj.cu:152: reg:linear is now deprecated in favor of reg:squarederror.\n",
            "191383.18611069937\n",
            "-----------------\n",
            "average rmse:  194953.3497865875\n"
          ],
          "name": "stdout"
        }
      ]
    }
  ]
}