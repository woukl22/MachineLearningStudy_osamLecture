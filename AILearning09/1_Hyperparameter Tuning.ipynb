{
  "nbformat": 4,
  "nbformat_minor": 0,
  "metadata": {
    "colab": {
      "name": "AILearning09-1_Hyperparameter Tuning.ipynb",
      "provenance": [],
      "collapsed_sections": [],
      "authorship_tag": "ABX9TyN6Gvz1Pwfdv/8lwLVnEAn5"
    },
    "kernelspec": {
      "name": "python3",
      "display_name": "Python 3"
    },
    "language_info": {
      "name": "python"
    }
  },
  "cells": [
    {
      "cell_type": "code",
      "metadata": {
        "id": "3xHX-voxl5Yx"
      },
      "source": [
        "import pandas as pd\n",
        "import numpy as np"
      ],
      "execution_count": null,
      "outputs": []
    },
    {
      "cell_type": "code",
      "metadata": {
        "id": "8rSublgLmFYj"
      },
      "source": [
        "from sklearn.preprocessing import MinMaxScaler\n",
        "from sklearn.model_selection import KFold\n",
        "from sklearn.model_selection import train_test_split\n",
        "from sklearn import metrics"
      ],
      "execution_count": null,
      "outputs": []
    },
    {
      "cell_type": "code",
      "metadata": {
        "id": "QYIGwbRamO01"
      },
      "source": [
        "from sklearn.linear_model import Lasso\n",
        "from sklearn.tree import DecisionTreeRegressor\n",
        "from sklearn.ensemble import RandomForestRegressor"
      ],
      "execution_count": null,
      "outputs": []
    },
    {
      "cell_type": "code",
      "metadata": {
        "id": "Hm6D0D-AmVPt"
      },
      "source": [
        "import tensorflow as tf\n",
        "from tensorflow import keras\n",
        "from tensorflow.keras import layers"
      ],
      "execution_count": null,
      "outputs": []
    },
    {
      "cell_type": "code",
      "metadata": {
        "id": "Q5EvTyeZmZlF"
      },
      "source": [
        "with open('X.npy', 'rb') as f:\n",
        "  X = np.load(f)\n",
        "\n",
        "with open('y.npy', 'rb') as f:\n",
        "  y = np.load(f)"
      ],
      "execution_count": null,
      "outputs": []
    },
    {
      "cell_type": "code",
      "metadata": {
        "colab": {
          "base_uri": "https://localhost:8080/"
        },
        "id": "opSk7F-TmjVV",
        "outputId": "66323700-1387-4446-bdaf-26d47209b1f1"
      },
      "source": [
        "X.shape, y.shape"
      ],
      "execution_count": null,
      "outputs": [
        {
          "output_type": "execute_result",
          "data": {
            "text/plain": [
              "((1460, 60), (1460, 1))"
            ]
          },
          "metadata": {
            "tags": []
          },
          "execution_count": 6
        }
      ]
    },
    {
      "cell_type": "code",
      "metadata": {
        "id": "x8fkp04DmlW3"
      },
      "source": [
        "x_min_max_scaler = MinMaxScaler()\n",
        "x_min_max_scaler.fit(X)\n",
        "scaled_X = x_min_max_scaler.transform(X)\n",
        "\n",
        "y_min_max_scaler = MinMaxScaler()\n",
        "y_min_max_scaler.fit(y)\n",
        "scaled_y = y_min_max_scaler.transform(y)"
      ],
      "execution_count": null,
      "outputs": []
    },
    {
      "cell_type": "code",
      "metadata": {
        "id": "0ZXCqxldmxTF"
      },
      "source": [
        "# K-fold cross validation\n",
        "K = 10\n",
        "kf = KFold(n_splits=K)"
      ],
      "execution_count": null,
      "outputs": []
    },
    {
      "cell_type": "code",
      "metadata": {
        "id": "vEJ73o1KnBSt"
      },
      "source": [
        "rmses = []\n",
        "for train_index, test_index in kf.split(scaled_X):\n",
        "  scaled_X_train, scaled_X_test = scaled_X[train_index], scaled_X[test_index]\n",
        "  scaled_y_train, scaled_y_test = scaled_y[train_index], scaled_y[test_index]\n",
        "  y_test = y[test_index]\n",
        "\n",
        "  # training\n",
        "  model = keras.Sequential(\n",
        "      [\n",
        "        keras.Input(shape=scaled_X_train.shape[-1]),\n",
        "        layers.Dense(96, activation='relu'),\n",
        "        layers.Dense(48, activation='relu'),\n",
        "        layers.Dense(1)\n",
        "      ]\n",
        "  )\n",
        "\n",
        "  # model.compile(loss=\"mse\", optimizer=\"adam\")\n",
        "\n",
        "  opt = keras.optimizers.Adam(learning_rate=0.005)\n",
        "  model.compile(loss=\"mse\", optimizer=opt)\n",
        "\n",
        "  early_stopping_callback = tf.keras.callbacks.EarlyStopping(monitor='val_loss', patience=7)\n",
        "  model = model.fit(scaled_X_train, scaled_y_train,\n",
        "                    batch_size=1, epochs=150,\n",
        "                    callbacks=[early_stopping_callback], validation_split=0.05, verbose='auto')\n",
        "\n",
        "  # evaluation\n",
        "  pred = model.predict(scaled_X_test).reshape((-1, 1))\n",
        "  pred = y_min_max_scaler.inverse_transform(pred)\n",
        "  rmse = np.sqrt(metrics.mean_squared_error(y_test, pred))\n",
        "\n",
        "  print(rmse)\n",
        "  print(\"--------------\")\n",
        "  \n",
        "\n",
        "  rmses.append(rmse)\n",
        "\n",
        "print(\"average rmse:\", np.mean(rmses))"
      ],
      "execution_count": null,
      "outputs": []
    },
    {
      "cell_type": "markdown",
      "metadata": {
        "id": "oDaq-6EqnoXL"
      },
      "source": [
        "# Hyperparameter\n",
        "- batch size\n",
        "- learning rate\n",
        "- number of layers\n",
        "- feature sizes\n",
        "- activation functions\n",
        "- optimizers"
      ]
    },
    {
      "cell_type": "markdown",
      "metadata": {
        "id": "LuM6zjbFtX-j"
      },
      "source": [
        "# Grid Search"
      ]
    },
    {
      "cell_type": "code",
      "metadata": {
        "id": "T8vyDOjZm1tt"
      },
      "source": [
        "batch_sizes = np.arange(1, 10, 2) # batch size는 1에서부터 10까지 2칸씩 띄어가면서 탐색하고 싶음."
      ],
      "execution_count": null,
      "outputs": []
    },
    {
      "cell_type": "code",
      "metadata": {
        "colab": {
          "base_uri": "https://localhost:8080/"
        },
        "id": "wsCv8nAotcc2",
        "outputId": "e87de986-3ab7-4d26-b762-5c7982733cc6"
      },
      "source": [
        "batch_sizes"
      ],
      "execution_count": null,
      "outputs": [
        {
          "output_type": "execute_result",
          "data": {
            "text/plain": [
              "array([1, 3, 5, 7, 9])"
            ]
          },
          "metadata": {
            "tags": []
          },
          "execution_count": 13
        }
      ]
    },
    {
      "cell_type": "code",
      "metadata": {
        "id": "ca9fMMdZtdZ9"
      },
      "source": [
        "learning_rates = [0.005, 0.01, 0.02]  # learning rate는 0.005, 0.01, 0.02를 탐색할 것"
      ],
      "execution_count": null,
      "outputs": []
    },
    {
      "cell_type": "code",
      "metadata": {
        "colab": {
          "base_uri": "https://localhost:8080/"
        },
        "id": "3woajidWw2gU",
        "outputId": "e8ffe2a1-fb6b-4dc1-ed84-ad03ec87c229"
      },
      "source": [
        "# 총 15개의 세트가 나온다.\n",
        "# 여기서 최적의 rmse값이 나오는 hyperparameter set을 골라내면 hyperparameter tuning을 했다고 할 수 있다.\n",
        "for batch_size in batch_sizes:\n",
        "  for learning_rate in learning_rates:\n",
        "    print(\"batch_size:\", batch_size, \"learning_rate:\", learning_rate)"
      ],
      "execution_count": null,
      "outputs": [
        {
          "output_type": "stream",
          "text": [
            "batch_size: 1 learning_rate: 0.005\n",
            "batch_size: 1 learning_rate: 0.01\n",
            "batch_size: 1 learning_rate: 0.02\n",
            "batch_size: 3 learning_rate: 0.005\n",
            "batch_size: 3 learning_rate: 0.01\n",
            "batch_size: 3 learning_rate: 0.02\n",
            "batch_size: 5 learning_rate: 0.005\n",
            "batch_size: 5 learning_rate: 0.01\n",
            "batch_size: 5 learning_rate: 0.02\n",
            "batch_size: 7 learning_rate: 0.005\n",
            "batch_size: 7 learning_rate: 0.01\n",
            "batch_size: 7 learning_rate: 0.02\n",
            "batch_size: 9 learning_rate: 0.005\n",
            "batch_size: 9 learning_rate: 0.01\n",
            "batch_size: 9 learning_rate: 0.02\n"
          ],
          "name": "stdout"
        }
      ]
    },
    {
      "cell_type": "code",
      "metadata": {
        "id": "p7Hkmo6gthSY"
      },
      "source": [
        "results = []\n",
        "for batch_size in batch_sizes:\n",
        "  for learning_rate in learning_rates:\n",
        "    print(batch_size, learning_rate)\n",
        "    for train_index, test_index in kf.split(scaled_X):\n",
        "      scaled_X_train, scaled_X_test = scaled_X[train_index], scaled_X[test_index]\n",
        "      scaled_y_train, scaled_y_test = scaled_y[train_index], scaled_y[test_index]\n",
        "      y_test = y[test_index]\n",
        "\n",
        "      # training\n",
        "      model = keras.Sequential(\n",
        "          [\n",
        "            layers.InputLayer(input_shape=scaled_X_train.shape[-1]),\n",
        "            layers.Dense(96, activation='relu'),\n",
        "            layers.Dense(48, activation='relu'),\n",
        "            layers.Dense(1)\n",
        "          ]\n",
        "      )\n",
        "\n",
        "      # model.compile(loss=\"mse\", optimizer=\"adam\")\n",
        "\n",
        "      opt = keras.optimizers.Adam(learning_rate=0.005)\n",
        "      model.compile(loss=\"mse\", optimizer=opt)\n",
        "\n",
        "      early_stopping_callback = tf.keras.callbacks.EarlyStopping(monitor='val_loss', patience=7)\n",
        "      model = model.fit(scaled_X_train, scaled_y_train,\n",
        "                        batch_size=1, epochs=150,\n",
        "                        callbacks=[early_stopping_callback], validation_split=0.05, verbose='auto')\n",
        "\n",
        "      # evaluation\n",
        "      pred = model.predict(scaled_X_test).reshape((-1, 1))\n",
        "      pred = y_min_max_scaler.inverse_transform(pred)\n",
        "      rmse = np.sqrt(metrics.mean_squared_error(y_test, pred))\n",
        "\n",
        "      print(rmse)\n",
        "      print(\"--------------\")\n",
        "\n",
        "      result = {}\n",
        "      result['batch_size'] = batch_size\n",
        "      result['learning_rate'] = learning_rate\n",
        "      result['rmse'] = rmse\n",
        "\n",
        "      results.append(result)"
      ],
      "execution_count": null,
      "outputs": []
    },
    {
      "cell_type": "code",
      "metadata": {
        "id": "ST4k6HaFzDjp"
      },
      "source": [
        "results"
      ],
      "execution_count": null,
      "outputs": []
    },
    {
      "cell_type": "markdown",
      "metadata": {
        "id": "8OqeE34WzFhd"
      },
      "source": [
        "# Random Search"
      ]
    },
    {
      "cell_type": "code",
      "metadata": {
        "id": "W9TzrOVOzKlM"
      },
      "source": [
        "# grid search에서는 범위를 어떤 룰에 의해 만들었다면, \n",
        "# random search는 시작과 끝점만 정해주고, 그 사이에서 랜덤으로 값을 뽑아오게 된다.\n",
        "import random"
      ],
      "execution_count": null,
      "outputs": []
    },
    {
      "cell_type": "code",
      "metadata": {
        "id": "7r58iuuIzNUC"
      },
      "source": [
        "batch_sizes = random.sample(range(1, 11), 5)"
      ],
      "execution_count": null,
      "outputs": []
    },
    {
      "cell_type": "code",
      "metadata": {
        "colab": {
          "base_uri": "https://localhost:8080/"
        },
        "id": "GCjf0bbtzQRO",
        "outputId": "ca2248ea-4a00-48b9-b59f-371be86b93ea"
      },
      "source": [
        "batch_sizes"
      ],
      "execution_count": null,
      "outputs": [
        {
          "output_type": "execute_result",
          "data": {
            "text/plain": [
              "[8, 4, 7, 5, 10]"
            ]
          },
          "metadata": {
            "tags": []
          },
          "execution_count": 23
        }
      ]
    },
    {
      "cell_type": "code",
      "metadata": {
        "id": "PiIvUVErzRUW"
      },
      "source": [
        "learning_rates = np.random.uniform(low=0.005, high=0.1, size=(4,))"
      ],
      "execution_count": null,
      "outputs": []
    },
    {
      "cell_type": "code",
      "metadata": {
        "colab": {
          "base_uri": "https://localhost:8080/"
        },
        "id": "mPzG-SXFzWQ9",
        "outputId": "3d086646-f0c8-4483-9a5d-46645ccb0ed0"
      },
      "source": [
        "# 정말 상상도 못했던 숫자에서 최적의 값이 나올 수 있음!\n",
        "learning_rates"
      ],
      "execution_count": null,
      "outputs": [
        {
          "output_type": "execute_result",
          "data": {
            "text/plain": [
              "array([0.08396272, 0.02367816, 0.06519007, 0.07035935])"
            ]
          },
          "metadata": {
            "tags": []
          },
          "execution_count": 32
        }
      ]
    },
    {
      "cell_type": "code",
      "metadata": {
        "id": "52u-J4AwzXIs"
      },
      "source": [
        ""
      ],
      "execution_count": null,
      "outputs": []
    }
  ]
}