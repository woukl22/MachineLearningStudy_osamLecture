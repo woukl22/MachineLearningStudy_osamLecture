{
  "nbformat": 4,
  "nbformat_minor": 0,
  "metadata": {
    "colab": {
      "name": "AILearning10-3_Page develop.ipynb",
      "provenance": [],
      "collapsed_sections": [],
      "authorship_tag": "ABX9TyMx/sW9D/UdjTJJnqNPmN4B"
    },
    "kernelspec": {
      "name": "python3",
      "display_name": "Python 3"
    },
    "language_info": {
      "name": "python"
    }
  },
  "cells": [
    {
      "cell_type": "code",
      "metadata": {
        "colab": {
          "base_uri": "https://localhost:8080/"
        },
        "id": "cc328aDP_nQa",
        "outputId": "e2d97b16-13c7-4144-9e50-0f0b2c788daf"
      },
      "source": [
        "# 노트북을 켤때마다 ngrok을 설치해줘야 한다.\n",
        "pip install flask-ngrok"
      ],
      "execution_count": 3,
      "outputs": [
        {
          "output_type": "stream",
          "text": [
            "Requirement already satisfied: flask-ngrok in /usr/local/lib/python3.7/dist-packages (0.0.25)\n",
            "Requirement already satisfied: requests in /usr/local/lib/python3.7/dist-packages (from flask-ngrok) (2.23.0)\n",
            "Requirement already satisfied: Flask>=0.8 in /usr/local/lib/python3.7/dist-packages (from flask-ngrok) (1.1.4)\n",
            "Requirement already satisfied: Jinja2<3.0,>=2.10.1 in /usr/local/lib/python3.7/dist-packages (from Flask>=0.8->flask-ngrok) (2.11.3)\n",
            "Requirement already satisfied: Werkzeug<2.0,>=0.15 in /usr/local/lib/python3.7/dist-packages (from Flask>=0.8->flask-ngrok) (1.0.1)\n",
            "Requirement already satisfied: itsdangerous<2.0,>=0.24 in /usr/local/lib/python3.7/dist-packages (from Flask>=0.8->flask-ngrok) (1.1.0)\n",
            "Requirement already satisfied: click<8.0,>=5.1 in /usr/local/lib/python3.7/dist-packages (from Flask>=0.8->flask-ngrok) (7.1.2)\n",
            "Requirement already satisfied: MarkupSafe>=0.23 in /usr/local/lib/python3.7/dist-packages (from Jinja2<3.0,>=2.10.1->Flask>=0.8->flask-ngrok) (2.0.1)\n",
            "Requirement already satisfied: certifi>=2017.4.17 in /usr/local/lib/python3.7/dist-packages (from requests->flask-ngrok) (2021.5.30)\n",
            "Requirement already satisfied: chardet<4,>=3.0.2 in /usr/local/lib/python3.7/dist-packages (from requests->flask-ngrok) (3.0.4)\n",
            "Requirement already satisfied: idna<3,>=2.5 in /usr/local/lib/python3.7/dist-packages (from requests->flask-ngrok) (2.10)\n",
            "Requirement already satisfied: urllib3!=1.25.0,!=1.25.1,<1.26,>=1.21.1 in /usr/local/lib/python3.7/dist-packages (from requests->flask-ngrok) (1.24.3)\n"
          ],
          "name": "stdout"
        }
      ]
    },
    {
      "cell_type": "code",
      "metadata": {
        "colab": {
          "base_uri": "https://localhost:8080/"
        },
        "id": "BTPNPm2qbPsQ",
        "outputId": "e3b06161-12f6-404a-a749-fed029197ec1"
      },
      "source": [
        "!ls # /content/submit_form.html"
      ],
      "execution_count": 9,
      "outputs": [
        {
          "output_type": "stream",
          "text": [
            "sample_data  submit_form.html\n"
          ],
          "name": "stdout"
        }
      ]
    },
    {
      "cell_type": "code",
      "metadata": {
        "colab": {
          "base_uri": "https://localhost:8080/"
        },
        "id": "UBF6beY72xUF",
        "outputId": "d02f553a-ac1a-4518-d167-11463dd25ae9"
      },
      "source": [
        "# Read data\n",
        "# Preprocess data\n",
        "# Model prediction\n",
        "# Return predict\n",
        "\n",
        "from flask import Flask, render_template, request\n",
        "from flask_ngrok import run_with_ngrok\n",
        "app = Flask(__name__, template_folder='/content')\n",
        "run_with_ngrok(app)\n",
        "\n",
        "# @app.route()가 하는 일은 주소가 불렸을 때, 어떤 함수를 실행하느냐를 정의한다.\n",
        "@app.route(\"/\")\n",
        "def predict():\n",
        "  # return \"<h1>This is your Flask server.</h1>\"\n",
        "  return render_template(\"submit_form.html\")\n",
        "\n",
        "@app.route(\"/result\", methods=['POST'])\n",
        "def result():\n",
        "  # Flask에서 기본적으로 request를 처리해준다.\n",
        "  # request.form을 하면, request가 가진 form data에 접근하여 읽겠다는 의미 --> (name, value) 형태\n",
        "  data = request.form\n",
        "\n",
        "  message = \"\"\n",
        "  message += \"<h1>House Price</h1>\"\n",
        "\n",
        "  for k, v in data.items():\n",
        "    print(k, v)\n",
        "    message += k + \": \" + v + \"</br>\"\n",
        "\n",
        "  return message\n",
        "\n",
        "app.run()"
      ],
      "execution_count": 23,
      "outputs": [
        {
          "output_type": "stream",
          "text": [
            " * Serving Flask app \"__main__\" (lazy loading)\n",
            " * Environment: production\n",
            "\u001b[31m   WARNING: This is a development server. Do not use it in a production deployment.\u001b[0m\n",
            "\u001b[2m   Use a production WSGI server instead.\u001b[0m\n",
            " * Debug mode: off\n"
          ],
          "name": "stdout"
        },
        {
          "output_type": "stream",
          "text": [
            " * Running on http://127.0.0.1:5000/ (Press CTRL+C to quit)\n"
          ],
          "name": "stderr"
        },
        {
          "output_type": "stream",
          "text": [
            " * Running on http://9b6284ff4858.ngrok.io\n",
            " * Traffic stats available on http://127.0.0.1:4040\n"
          ],
          "name": "stdout"
        },
        {
          "output_type": "stream",
          "text": [
            "127.0.0.1 - - [10/Aug/2021 19:45:25] \"\u001b[37mGET / HTTP/1.1\u001b[0m\" 200 -\n",
            "127.0.0.1 - - [10/Aug/2021 19:45:25] \"\u001b[33mGET /favicon.ico HTTP/1.1\u001b[0m\" 404 -\n",
            "127.0.0.1 - - [10/Aug/2021 19:45:26] \"\u001b[37mGET / HTTP/1.1\u001b[0m\" 200 -\n",
            "127.0.0.1 - - [10/Aug/2021 19:45:27] \"\u001b[37mPOST /result HTTP/1.1\u001b[0m\" 200 -\n"
          ],
          "name": "stderr"
        },
        {
          "output_type": "stream",
          "text": [
            "OverallQual 6\n",
            "GrLivArea 1464\n",
            "GarageCars 2\n",
            "GarageArea 480\n",
            "TotalBsmtSF 991\n",
            "1stFlrSF 1087\n",
            "FullBath 2\n",
            "LotShape IR1\n"
          ],
          "name": "stdout"
        },
        {
          "output_type": "stream",
          "text": [
            "127.0.0.1 - - [10/Aug/2021 19:45:28] \"\u001b[31m\u001b[1mGET /result HTTP/1.1\u001b[0m\" 405 -\n",
            "127.0.0.1 - - [10/Aug/2021 19:45:36] \"\u001b[37mPOST /result HTTP/1.1\u001b[0m\" 200 -\n"
          ],
          "name": "stderr"
        },
        {
          "output_type": "stream",
          "text": [
            "OverallQual 1\n",
            "GrLivArea 1\n",
            "GarageCars 2\n",
            "GarageArea 3\n",
            "TotalBsmtSF 4\n",
            "1stFlrSF 5\n",
            "FullBath 6\n",
            "LotShape IR2\n"
          ],
          "name": "stdout"
        },
        {
          "output_type": "stream",
          "text": [
            "127.0.0.1 - - [10/Aug/2021 19:45:48] \"\u001b[37mPOST /result HTTP/1.1\u001b[0m\" 200 -\n"
          ],
          "name": "stderr"
        },
        {
          "output_type": "stream",
          "text": [
            "OverallQual 1\n",
            "GrLivArea 2\n",
            "GarageCars 3\n",
            "GarageArea 4\n",
            "TotalBsmtSF 5\n",
            "1stFlrSF 6\n",
            "FullBath 7\n",
            "LotShape IR1\n"
          ],
          "name": "stdout"
        }
      ]
    }
  ]
}