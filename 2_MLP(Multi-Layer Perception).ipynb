{
  "nbformat": 4,
  "nbformat_minor": 0,
  "metadata": {
    "colab": {
      "name": "AILearning05-2_MLP(Multi-Layer Perception)_1.ipynb",
      "provenance": [],
      "collapsed_sections": [],
      "authorship_tag": "ABX9TyPHUU47xH4//+zvqnqL8Hik",
      "include_colab_link": true
    },
    "kernelspec": {
      "name": "python3",
      "display_name": "Python 3"
    },
    "language_info": {
      "name": "python"
    }
  },
  "cells": [
    {
      "cell_type": "markdown",
      "metadata": {
        "id": "view-in-github",
        "colab_type": "text"
      },
      "source": [
        "<a href=\"https://colab.research.google.com/github/woukl22/MachineLearningStudy_osamLecture/blob/main/2_MLP(Multi-Layer%20Perception).ipynb\" target=\"_parent\"><img src=\"https://colab.research.google.com/assets/colab-badge.svg\" alt=\"Open In Colab\"/></a>"
      ]
    },
    {
      "cell_type": "code",
      "metadata": {
        "id": "ce_8UFhwPVGX"
      },
      "source": [
        "import numpy as np\n",
        "from tensorflow import keras\n",
        "from tensorflow.keras import layers"
      ],
      "execution_count": 1,
      "outputs": []
    },
    {
      "cell_type": "code",
      "metadata": {
        "colab": {
          "base_uri": "https://localhost:8080/"
        },
        "id": "VMfV1T8QacBZ",
        "outputId": "6390478b-bdc1-49fa-b02f-7dc4758e982c"
      },
      "source": [
        "# Model / data parameters\n",
        "num_classes = 10\n",
        "\n",
        "# the data, split between train and test sets\n",
        "(x_train, y_train), (x_test, y_test) = keras.datasets.mnist.load_data()"
      ],
      "execution_count": 2,
      "outputs": [
        {
          "output_type": "stream",
          "text": [
            "Downloading data from https://storage.googleapis.com/tensorflow/tf-keras-datasets/mnist.npz\n",
            "11493376/11490434 [==============================] - 0s 0us/step\n"
          ],
          "name": "stdout"
        }
      ]
    },
    {
      "cell_type": "code",
      "metadata": {
        "colab": {
          "base_uri": "https://localhost:8080/"
        },
        "id": "Jy6GYt50ambD",
        "outputId": "9762c2a2-ccc4-424f-a296-fecfaffd69c5"
      },
      "source": [
        "x_train.shape"
      ],
      "execution_count": 3,
      "outputs": [
        {
          "output_type": "execute_result",
          "data": {
            "text/plain": [
              "(60000, 28, 28)"
            ]
          },
          "metadata": {
            "tags": []
          },
          "execution_count": 3
        }
      ]
    },
    {
      "cell_type": "code",
      "metadata": {
        "id": "8QjmowIUaunB"
      },
      "source": [
        "# x_train의 shape이 이미지라 28, 28이다. \n",
        "# fully connected를 할 것이기 때문에 마지막 axis가 하나여야하므로 reshape을 해줘야 한다.\n",
        "\n",
        "# reshape의 첫번째 argument에는 x_train의 길이를 넣어 기존 x_train의 첫번째 요소와 같게 해준다\n",
        "# 두 번째 argument는 -1을 넣었는데, -1의 의미는 너가 알아서 계산하라는 뜻이다.\n",
        "# len(x_train) x ?를 해서 60000 x 28 x 28의 값이 나와야하므로 두 번째 요소에 28*28인 784가 들어가게 된다.\n",
        "x_train = x_train.reshape((len(x_train), -1))"
      ],
      "execution_count": 4,
      "outputs": []
    },
    {
      "cell_type": "code",
      "metadata": {
        "id": "TALhQvfWayL3"
      },
      "source": [
        "# 숫자의 범위가 0~1 사이로 normalized된게 학습에 효과가 좋기 때문에\n",
        "# 정규화를 하기 위해 가장 큰 값인 255로 나눠준다.\n",
        "# 가장 큰 값이 255인 이유는 위에서 x_train.shape을 해보면 255가 제일 큰 값으로 나온다.\n",
        "x_train = x_train.astype(\"float32\") / 255"
      ],
      "execution_count": 5,
      "outputs": []
    },
    {
      "cell_type": "code",
      "metadata": {
        "colab": {
          "base_uri": "https://localhost:8080/"
        },
        "id": "aiDoY-Zha2mW",
        "outputId": "bdcab01e-87b2-4062-a26d-5cf41fa1b3d8"
      },
      "source": [
        "# 28 * 28 = 784\n",
        "x_train.shape"
      ],
      "execution_count": 6,
      "outputs": [
        {
          "output_type": "execute_result",
          "data": {
            "text/plain": [
              "(60000, 784)"
            ]
          },
          "metadata": {
            "tags": []
          },
          "execution_count": 6
        }
      ]
    },
    {
      "cell_type": "code",
      "metadata": {
        "colab": {
          "base_uri": "https://localhost:8080/"
        },
        "id": "_ctJpTHPa3eu",
        "outputId": "f022e435-a31e-4a00-a017-1cbff76c2bda"
      },
      "source": [
        "y_train.shape"
      ],
      "execution_count": 7,
      "outputs": [
        {
          "output_type": "execute_result",
          "data": {
            "text/plain": [
              "(60000,)"
            ]
          },
          "metadata": {
            "tags": []
          },
          "execution_count": 7
        }
      ]
    },
    {
      "cell_type": "code",
      "metadata": {
        "id": "uAjMERdqa4uO"
      },
      "source": [
        "# convert class vectors to binary class matrices\n",
        "# 원핫 인코딩의 형태로 바꾸고 싶어서 to_categorical 메소드를 사용한다.\n",
        "y_train = keras.utils.to_categorical(y_train, num_classes)"
      ],
      "execution_count": 8,
      "outputs": []
    },
    {
      "cell_type": "code",
      "metadata": {
        "colab": {
          "base_uri": "https://localhost:8080/"
        },
        "id": "hnkwPZCIa_4X",
        "outputId": "0a03ce00-2a8c-4296-9c95-9438107548a7"
      },
      "source": [
        "y_train.shape"
      ],
      "execution_count": 9,
      "outputs": [
        {
          "output_type": "execute_result",
          "data": {
            "text/plain": [
              "(60000, 10)"
            ]
          },
          "metadata": {
            "tags": []
          },
          "execution_count": 9
        }
      ]
    },
    {
      "cell_type": "code",
      "metadata": {
        "colab": {
          "base_uri": "https://localhost:8080/"
        },
        "id": "xzk-g4CtbAuG",
        "outputId": "57c19be7-b817-4372-bf60-d7291cab4c37"
      },
      "source": [
        "# 여기서 나오는 y_train의 shape이 원핫인코딩 형태이다.\n",
        "# y_train[0]값이 5인데, 5를 [0., 0., 0., 0., 0., 1., 0., 0., 0., 0.]로 표현함.\n",
        "y_train[0]"
      ],
      "execution_count": 10,
      "outputs": [
        {
          "output_type": "execute_result",
          "data": {
            "text/plain": [
              "array([0., 0., 0., 0., 0., 1., 0., 0., 0., 0.], dtype=float32)"
            ]
          },
          "metadata": {
            "tags": []
          },
          "execution_count": 10
        }
      ]
    },
    {
      "cell_type": "code",
      "metadata": {
        "colab": {
          "base_uri": "https://localhost:8080/"
        },
        "id": "vUgyLvW3bBw-",
        "outputId": "b2a0425d-3faa-480b-a40c-6418f8501af4"
      },
      "source": [
        "# 모델 디자인을 해보자.\n",
        "# 현재 input값이 60000 x 784이고,\n",
        "# output값은 60000 x 10이 나오도록 정해져 있다.\n",
        "# 우리가 할 것은 가운데에 있는 hidden layer를 정해주는 것이다.\n",
        "model = keras.Sequential(\n",
        "    [\n",
        "     keras.Input(shape=x_train.shape[-1]),\n",
        "     layers.Dense(256, activation=\"relu\"),\n",
        "     layers.Dense(128, activation=\"relu\"),\n",
        "     layers.Dense(num_classes, activation=\"softmax\")\n",
        "    ]\n",
        ")\n",
        "\n",
        "model.summary()"
      ],
      "execution_count": 11,
      "outputs": [
        {
          "output_type": "stream",
          "text": [
            "WARNING:tensorflow:Please add `keras.layers.InputLayer` instead of `keras.Input` to Sequential model. `keras.Input` is intended to be used by Functional model.\n",
            "Model: \"sequential\"\n",
            "_________________________________________________________________\n",
            "Layer (type)                 Output Shape              Param #   \n",
            "=================================================================\n",
            "dense (Dense)                (None, 256)               200960    \n",
            "_________________________________________________________________\n",
            "dense_1 (Dense)              (None, 128)               32896     \n",
            "_________________________________________________________________\n",
            "dense_2 (Dense)              (None, 10)                1290      \n",
            "=================================================================\n",
            "Total params: 235,146\n",
            "Trainable params: 235,146\n",
            "Non-trainable params: 0\n",
            "_________________________________________________________________\n"
          ],
          "name": "stdout"
        }
      ]
    },
    {
      "cell_type": "markdown",
      "metadata": {
        "id": "pYXBCPrLe6hG"
      },
      "source": [
        "dense_1에서 256 x 128의 히든 레이어의 파라미터 수가 32768이 아니라 32896인 이유는<br>\n",
        "256 * 128 + 128로 bias까지 더해줬기 때문이다!!\n",
        "\n",
        "그래서 dense_2에서 128 x 10의 행렬도 파라미터 수는 128*10+10을 해서 1290이다.\n",
        "\n",
        "첫 번째 input layer는 feature size가 784이니까 784x256+256 하면 200960이 나온다.\n"
      ]
    },
    {
      "cell_type": "code",
      "metadata": {
        "colab": {
          "base_uri": "https://localhost:8080/"
        },
        "id": "sJBLHibAefX0",
        "outputId": "03850b8f-b356-47fb-8dde-527ed709440d"
      },
      "source": [
        "# 학습을 시켜보자\n",
        "model.compile(loss=\"categorical_crossentropy\", optimizer=\"adam\", metrics=[\"accuracy\"])\n",
        "model.fit(x_train, y_train, batch_size=32, epochs=1, validation_split=0.1)"
      ],
      "execution_count": 13,
      "outputs": [
        {
          "output_type": "stream",
          "text": [
            "1688/1688 [==============================] - 7s 4ms/step - loss: 0.0926 - accuracy: 0.9715 - val_loss: 0.0855 - val_accuracy: 0.9733\n"
          ],
          "name": "stdout"
        },
        {
          "output_type": "execute_result",
          "data": {
            "text/plain": [
              "<tensorflow.python.keras.callbacks.History at 0x7f13b2fbc210>"
            ]
          },
          "metadata": {
            "tags": []
          },
          "execution_count": 13
        }
      ]
    },
    {
      "cell_type": "markdown",
      "metadata": {
        "id": "EdacffTXi8KW"
      },
      "source": [
        "총 6만개의 이미지가 있다.<br>\n",
        "이 때 32의 batch size를 주는 거니까 32개의 이미지를 넣어가면서 학습을 하겠다는 의미<br>\n",
        "그럼 60000/32 = 1875이므로 1875번을 반복해야 끝이 난다.<br>\n",
        "그런데 실제 학습을 한 것을 보면 1688번만 학습을 한 것으로 나온다.<br>\n",
        "이 이유는 10%는 떼놓고 90%에 대해서만 32번으로 나눠서 학습을 하기 때문에 1688이 나온 것이다.<br>\n",
        "10% 떼놓은 것은 validation이다."
      ]
    }
  ]
}